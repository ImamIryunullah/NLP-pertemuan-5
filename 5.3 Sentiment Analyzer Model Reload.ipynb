{
 "cells": [
  {
   "cell_type": "markdown",
   "metadata": {},
   "source": [
    "This notebook explains how to reuse the trained model which we pickled in the notebook title \"Sentiment Analyzer\""
   ]
  },
  {
   "cell_type": "code",
   "execution_count": 4,
   "metadata": {},
   "outputs": [],
   "source": [
    "def sentiment_pred(classifier, vectorizer, doc):\n",
    "    \"\"\"Predict sentiment of a product review.\n",
    "    \n",
    "       classifier : pre-trained model\n",
    "       vectorizer : fitted CountVectorizer or TfidfVectorizer\n",
    "       doc : product review string\n",
    "    \"\"\"\n",
    "    X_new = vectorizer.transform([doc])\n",
    "\n",
    "    from sklearn.feature_extraction.text import CountVectorizer, TfidfTransformer\n",
    "    if isinstance(vectorizer, CountVectorizer):\n",
    "        tfidf = TfidfTransformer()\n",
    "        X_new = tfidf.fit_transform(X_new) \n",
    "\n",
    "    X_new = X_new.toarray()\n",
    "\n",
    "    y_new = classifier.predict(X_new)\n",
    "    return \"negative sentiment\" if y_new[0] == 0 else \"positive sentiment\"\n"
   ]
  },
  {
   "cell_type": "code",
   "execution_count": 5,
   "metadata": {},
   "outputs": [
    {
     "data": {
      "text/plain": [
       "'negative sentiment'"
      ]
     },
     "execution_count": 5,
     "metadata": {},
     "output_type": "execute_result"
    }
   ],
   "source": [
    "import pandas as pd\n",
    "import pickle\n",
    "nb_clf = pickle.load(open(\"nb_sa\", 'rb'))\n",
    "vectorizer = pickle.load(open(\"vectorizer_sa\", 'rb'))\n",
    "new_doc = \"Not even close to the quality one would expect\"\n",
    "sentiment_pred(nb_clf, vectorizer, new_doc)"
   ]
  }
 ],
 "metadata": {
  "kernelspec": {
   "display_name": "base",
   "language": "python",
   "name": "python3"
  },
  "language_info": {
   "codemirror_mode": {
    "name": "ipython",
    "version": 3
   },
   "file_extension": ".py",
   "mimetype": "text/x-python",
   "name": "python",
   "nbconvert_exporter": "python",
   "pygments_lexer": "ipython3",
   "version": "3.12.5"
  }
 },
 "nbformat": 4,
 "nbformat_minor": 4
}
